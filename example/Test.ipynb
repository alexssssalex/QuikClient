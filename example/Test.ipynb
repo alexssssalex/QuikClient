{
 "cells": [
  {
   "cell_type": "code",
   "execution_count": 1,
   "metadata": {
    "collapsed": true,
    "pycharm": {
     "name": "#%%\n"
    }
   },
   "outputs": [],
   "source": [
    "from src.quikclient import QuikClient\n",
    "import time"
   ]
  },
  {
   "cell_type": "code",
   "execution_count": 2,
   "outputs": [],
   "source": [
    "c= QuikClient()"
   ],
   "metadata": {
    "collapsed": false,
    "pycharm": {
     "name": "#%%\n"
    }
   }
  },
  {
   "cell_type": "code",
   "execution_count": 3,
   "outputs": [
    {
     "data": {
      "text/plain": "['CROSSRATE', 'SMAL', 'INDX', 'TQBR', 'CETS', 'SPBFUT', 'RTSIDX', 'SPBOPT']"
     },
     "execution_count": 3,
     "metadata": {},
     "output_type": "execute_result"
    }
   ],
   "source": [
    "['CROSSRATE', 'SMAL', 'INDX', 'TQBR', 'CETS', 'SPBFUT', 'RTSIDX', 'SPBOPT']"
   ],
   "metadata": {
    "collapsed": false,
    "pycharm": {
     "name": "#%%\n"
    }
   }
  },
  {
   "cell_type": "code",
   "execution_count": 22,
   "outputs": [],
   "source": [
    "# c.get_class_info('TQBR')\n",
    "df = c.get_candle_data('TQBR', 'GAZP', 'INTERVAL_M1')"
   ],
   "metadata": {
    "collapsed": false,
    "pycharm": {
     "name": "#%%\n"
    }
   }
  },
  {
   "cell_type": "code",
   "execution_count": 23,
   "outputs": [
    {
     "data": {
      "text/plain": "                       D       H       L       O       C         V\n0    2021-11-30 14:04:00  337.50  337.06  337.37  337.31    5504.0\n1    2021-11-30 14:05:00  337.41  336.61  337.20  337.26   43480.0\n2    2021-11-30 14:06:00  337.39  337.03  337.26  337.11    8304.0\n3    2021-11-30 14:07:00  337.77  337.10  337.11  337.56    9223.0\n4    2021-11-30 14:08:00  337.59  337.16  337.56  337.35   10436.0\n...                  ...     ...     ...     ...     ...       ...\n2709 2021-12-03 18:45:00  346.54  346.54  346.54  346.54  111448.0\n2710 2021-12-03 18:46:00  346.54  346.54  346.54  346.54    4408.0\n2711 2021-12-03 18:47:00  346.54  346.54  346.54  346.54   14128.0\n2712 2021-12-03 18:48:00  346.54  346.54  346.54  346.54     110.0\n2713 2021-12-03 18:49:00  346.54  346.54  346.54  346.54      37.0\n\n[2714 rows x 6 columns]",
      "text/html": "<div>\n<style scoped>\n    .dataframe tbody tr th:only-of-type {\n        vertical-align: middle;\n    }\n\n    .dataframe tbody tr th {\n        vertical-align: top;\n    }\n\n    .dataframe thead th {\n        text-align: right;\n    }\n</style>\n<table border=\"1\" class=\"dataframe\">\n  <thead>\n    <tr style=\"text-align: right;\">\n      <th></th>\n      <th>D</th>\n      <th>H</th>\n      <th>L</th>\n      <th>O</th>\n      <th>C</th>\n      <th>V</th>\n    </tr>\n  </thead>\n  <tbody>\n    <tr>\n      <th>0</th>\n      <td>2021-11-30 14:04:00</td>\n      <td>337.50</td>\n      <td>337.06</td>\n      <td>337.37</td>\n      <td>337.31</td>\n      <td>5504.0</td>\n    </tr>\n    <tr>\n      <th>1</th>\n      <td>2021-11-30 14:05:00</td>\n      <td>337.41</td>\n      <td>336.61</td>\n      <td>337.20</td>\n      <td>337.26</td>\n      <td>43480.0</td>\n    </tr>\n    <tr>\n      <th>2</th>\n      <td>2021-11-30 14:06:00</td>\n      <td>337.39</td>\n      <td>337.03</td>\n      <td>337.26</td>\n      <td>337.11</td>\n      <td>8304.0</td>\n    </tr>\n    <tr>\n      <th>3</th>\n      <td>2021-11-30 14:07:00</td>\n      <td>337.77</td>\n      <td>337.10</td>\n      <td>337.11</td>\n      <td>337.56</td>\n      <td>9223.0</td>\n    </tr>\n    <tr>\n      <th>4</th>\n      <td>2021-11-30 14:08:00</td>\n      <td>337.59</td>\n      <td>337.16</td>\n      <td>337.56</td>\n      <td>337.35</td>\n      <td>10436.0</td>\n    </tr>\n    <tr>\n      <th>...</th>\n      <td>...</td>\n      <td>...</td>\n      <td>...</td>\n      <td>...</td>\n      <td>...</td>\n      <td>...</td>\n    </tr>\n    <tr>\n      <th>2709</th>\n      <td>2021-12-03 18:45:00</td>\n      <td>346.54</td>\n      <td>346.54</td>\n      <td>346.54</td>\n      <td>346.54</td>\n      <td>111448.0</td>\n    </tr>\n    <tr>\n      <th>2710</th>\n      <td>2021-12-03 18:46:00</td>\n      <td>346.54</td>\n      <td>346.54</td>\n      <td>346.54</td>\n      <td>346.54</td>\n      <td>4408.0</td>\n    </tr>\n    <tr>\n      <th>2711</th>\n      <td>2021-12-03 18:47:00</td>\n      <td>346.54</td>\n      <td>346.54</td>\n      <td>346.54</td>\n      <td>346.54</td>\n      <td>14128.0</td>\n    </tr>\n    <tr>\n      <th>2712</th>\n      <td>2021-12-03 18:48:00</td>\n      <td>346.54</td>\n      <td>346.54</td>\n      <td>346.54</td>\n      <td>346.54</td>\n      <td>110.0</td>\n    </tr>\n    <tr>\n      <th>2713</th>\n      <td>2021-12-03 18:49:00</td>\n      <td>346.54</td>\n      <td>346.54</td>\n      <td>346.54</td>\n      <td>346.54</td>\n      <td>37.0</td>\n    </tr>\n  </tbody>\n</table>\n<p>2714 rows × 6 columns</p>\n</div>"
     },
     "execution_count": 23,
     "metadata": {},
     "output_type": "execute_result"
    }
   ],
   "source": [
    "df"
   ],
   "metadata": {
    "collapsed": false,
    "pycharm": {
     "name": "#%%\n"
    }
   }
  },
  {
   "cell_type": "code",
   "execution_count": 15,
   "outputs": [
    {
     "data": {
      "text/plain": "['PSAU',\n 'SMAL',\n 'INDX',\n 'TQBR',\n 'TQOB',\n 'TQIF',\n 'TQTF',\n 'TQOD',\n 'CETS',\n 'CROSSRATE',\n 'SPBFUT',\n 'SPBOPT',\n 'USDRUB',\n 'RTSIDX',\n 'REPORT',\n 'REPORTFORTS',\n 'SMS',\n 'TQCB',\n 'TQOE',\n 'TQRD',\n 'TQUD',\n 'TQED',\n 'TQIR',\n 'TQIU',\n 'TQIE',\n 'EQRP',\n 'INFO',\n 'TQPI',\n 'TQFD',\n 'TQFE',\n 'TQTD',\n 'TQTE',\n 'SPBXM',\n 'SPBDE',\n 'SPBRU',\n 'USD',\n 'PSSPBRU',\n 'USD']"
     },
     "execution_count": 15,
     "metadata": {},
     "output_type": "execute_result"
    }
   ],
   "source": [
    "c.get_classes_list()"
   ],
   "metadata": {
    "collapsed": false,
    "pycharm": {
     "name": "#%%\n"
    }
   }
  },
  {
   "cell_type": "code",
   "execution_count": 21,
   "outputs": [
    {
     "name": "stdout",
     "output_type": "stream",
     "text": [
      "РПС: Размещение: Адресные заявки (облигации)\n",
      "МБ ФР: Т+ Неполные лоты\n",
      "Индексы: МБ ФР\n",
      "МБ ФР: Т+ Акции и ДР\n",
      "МБ ФР: Т+: Гособлигации\n",
      "МБ ФР: Т+ Паи\n",
      "МБ ФР: Т+ ETF\n",
      "МБ ФР: Т+ Облигации (расч. в USD)\n",
      "МБ Валюта: ЕТС\n",
      "МБ ФР: Кросс-курсы валют\n",
      "FORTS: Фьючерсы\n",
      "FORTS: Опционы\n",
      "FORTS: Кросс-курсы\n",
      "Индексы: FORTS\n",
      "МБ ФР: Отчёты\n",
      "FORTS: Отчёты\n",
      "SMS-оповещения\n",
      "МБ ФР: Т+: Облигации\n",
      "МБ ФР: Т+: Облигации (расч.в EUR)\n",
      "МБ ФР: Т+: Д-Облигации\n",
      "МБ ФР: Т+: Д-Облигации (расч.в USD)\n",
      "МБ ФР: Т+: Д-Облигации (расч.в EUR)\n",
      "МБ ФР: Т+: Повышенный инвестиционный риск (Облигации)\n",
      "МБ ФР: Т+: Повышенный инвестиционный риск (Облигации) (расч.в USD)\n",
      "МБ ФР: Т+: Повышенный инвестиционный риск (Облигации) (расч.в EUR)\n"
     ]
    },
    {
     "ename": "TypeError",
     "evalue": "'NoneType' object is not subscriptable",
     "output_type": "error",
     "traceback": [
      "\u001B[1;31m---------------------------------------------------------------------------\u001B[0m",
      "\u001B[1;31mTypeError\u001B[0m                                 Traceback (most recent call last)",
      "\u001B[1;32m<ipython-input-21-4f72dde189fb>\u001B[0m in \u001B[0;36m<module>\u001B[1;34m\u001B[0m\n\u001B[0;32m      1\u001B[0m \u001B[1;32mfor\u001B[0m \u001B[0mx\u001B[0m \u001B[1;32min\u001B[0m  \u001B[0mc\u001B[0m\u001B[1;33m.\u001B[0m\u001B[0mget_classes_list\u001B[0m\u001B[1;33m(\u001B[0m\u001B[1;33m)\u001B[0m\u001B[1;33m:\u001B[0m\u001B[1;33m\u001B[0m\u001B[1;33m\u001B[0m\u001B[0m\n\u001B[0;32m      2\u001B[0m     \u001B[0my\u001B[0m \u001B[1;33m=\u001B[0m \u001B[0mc\u001B[0m\u001B[1;33m.\u001B[0m\u001B[0mget_class_info\u001B[0m\u001B[1;33m(\u001B[0m\u001B[0mx\u001B[0m\u001B[1;33m)\u001B[0m\u001B[1;33m\u001B[0m\u001B[1;33m\u001B[0m\u001B[0m\n\u001B[1;32m----> 3\u001B[1;33m     \u001B[0mprint\u001B[0m\u001B[1;33m(\u001B[0m\u001B[0my\u001B[0m\u001B[1;33m[\u001B[0m\u001B[1;34m'name'\u001B[0m\u001B[1;33m]\u001B[0m\u001B[1;33m)\u001B[0m\u001B[1;33m\u001B[0m\u001B[1;33m\u001B[0m\u001B[0m\n\u001B[0m",
      "\u001B[1;31mTypeError\u001B[0m: 'NoneType' object is not subscriptable"
     ]
    }
   ],
   "source": [
    "for x in  c.get_classes_list():\n",
    "    y = c.get_class_info(x)\n",
    "    print(y['name'])"
   ],
   "metadata": {
    "collapsed": false,
    "pycharm": {
     "name": "#%%\n"
    }
   }
  },
  {
   "cell_type": "code",
   "execution_count": 7,
   "outputs": [
    {
     "name": "stdout",
     "output_type": "stream",
     "text": [
      "PSAU\n",
      "-- ['RU', 'A', 'JV', 'J', 'RU', 'A', 'JWZM', 'RU', 'A', 'ZYCD', 'RU', 'A', 'ZYKU', 'RU', 'A', 'ZYL', 'RU', 'A', 'ZYM', 'RU', 'A', 'ZZQQ', 'RU', 'A', 'ZZSW', 'RU', 'A', 'ZZXZ', 'RU', 'A', 'ZZZV', 'RU', 'A', 'WL', 'RU', 'A', 'L', 'RU', 'A', 'H', 'RU', 'A', 'HF', 'RU', 'A', 'K', 'RU', 'A', 'KN', 'RU', 'A', 'L', 'RU', 'A', 'L', 'RU', 'A', 'M', 'RU', 'A', 'F', 'RU', 'A', 'DH', 'RU', 'A', 'DJ', 'RU', 'A', 'F', 'RU', 'A', 'S', 'RU', 'A', 'S', 'RU', 'A', 'SA', 'RU', 'A', 'SB', 'RU', 'A', 'SC', 'RU', 'A', 'TS', 'RU', 'A', 'UL', 'RU', 'A', 'VD', 'RU', 'A', 'W', 'RU', 'A', 'WZ', 'RU', 'A', 'Y', 'RU', 'A', 'YS', 'RU', 'A', 'YX', 'RU', 'A', 'ZH', 'RU', 'A', 'H', 'RU', 'A', 'R', 'RU', 'A', 'T', 'RU', 'A', 'U', 'RU', 'A', 'V', 'RU', 'A', 'M', 'RU', 'A', 'N', 'RU', 'A', 'RU', 'A', 'E', 'RU', 'A', 'H', 'RU', 'A', 'L', 'RU', 'A', 'RU', 'A', 'V', 'RU', 'A', 'W', 'RU', 'A', 'X', 'RU', 'A', 'Y', 'RU', 'A', 'Z', 'RU', 'A', 'F', 'RU', 'A', 'V', 'RU', 'A', 'RU', 'A', 'RU', 'A', 'A', 'SU', 'RMFS']\n",
      "--- RU\n",
      "--- None\n",
      "--- A\n",
      "--- None\n",
      "--- JV\n",
      "--- None\n",
      "--- J\n",
      "--- None\n",
      "--- RU\n",
      "--- None\n",
      "--- A\n",
      "--- None\n",
      "--- JWZM\n",
      "--- None\n",
      "--- RU\n",
      "--- None\n",
      "--- A\n",
      "--- None\n",
      "--- ZYCD\n",
      "--- None\n",
      "--- RU\n",
      "--- None\n",
      "--- A\n",
      "--- None\n",
      "--- ZYKU\n",
      "--- None\n",
      "--- RU\n",
      "--- None\n",
      "--- A\n",
      "--- None\n",
      "--- ZYL\n",
      "--- None\n",
      "--- RU\n",
      "--- None\n",
      "--- A\n",
      "--- None\n",
      "--- ZYM\n",
      "--- None\n",
      "--- RU\n",
      "--- None\n",
      "--- A\n",
      "--- None\n",
      "--- ZZQQ\n",
      "--- None\n",
      "--- RU\n",
      "--- None\n",
      "--- A\n",
      "--- None\n",
      "--- ZZSW\n",
      "--- None\n",
      "--- RU\n",
      "--- None\n",
      "--- A\n",
      "--- None\n",
      "--- ZZXZ\n",
      "--- None\n",
      "--- RU\n",
      "--- None\n",
      "--- A\n",
      "--- None\n",
      "--- ZZZV\n",
      "--- None\n",
      "--- RU\n",
      "--- None\n",
      "--- A\n",
      "--- None\n",
      "--- WL\n",
      "--- None\n",
      "--- RU\n",
      "--- None\n",
      "--- A\n",
      "--- None\n",
      "--- L\n"
     ]
    },
    {
     "ename": "ExceptionQuikClient",
     "evalue": "Ошибка соединения или передачи данных с QUIK",
     "output_type": "error",
     "traceback": [
      "\u001B[1;31m---------------------------------------------------------------------------\u001B[0m",
      "\u001B[1;31mJSONDecodeError\u001B[0m                           Traceback (most recent call last)",
      "\u001B[1;32mC:\\Work\\WorkMy\\QuikClient\\src\\quikclient\\QuikClient.py\u001B[0m in \u001B[0;36m_get_cmd\u001B[1;34m(self, cmd)\u001B[0m\n\u001B[0;32m     46\u001B[0m             \u001B[0ms\u001B[0m\u001B[1;33m.\u001B[0m\u001B[0msend\u001B[0m\u001B[1;33m(\u001B[0m\u001B[0mcmd_to_send\u001B[0m\u001B[1;33m.\u001B[0m\u001B[0mencode\u001B[0m\u001B[1;33m(\u001B[0m\u001B[0mself\u001B[0m\u001B[1;33m.\u001B[0m\u001B[0municode\u001B[0m\u001B[1;33m)\u001B[0m\u001B[1;33m)\u001B[0m\u001B[1;33m\u001B[0m\u001B[1;33m\u001B[0m\u001B[0m\n\u001B[1;32m---> 47\u001B[1;33m             \u001B[0mnumber_chunk\u001B[0m \u001B[1;33m=\u001B[0m \u001B[0mjson\u001B[0m\u001B[1;33m.\u001B[0m\u001B[0mloads\u001B[0m\u001B[1;33m(\u001B[0m\u001B[0ms\u001B[0m\u001B[1;33m.\u001B[0m\u001B[0mrecv\u001B[0m\u001B[1;33m(\u001B[0m\u001B[1;36m32\u001B[0m\u001B[1;33m)\u001B[0m\u001B[1;33m)\u001B[0m\u001B[1;33m\u001B[0m\u001B[1;33m\u001B[0m\u001B[0m\n\u001B[0m\u001B[0;32m     48\u001B[0m             \u001B[0mres\u001B[0m \u001B[1;33m=\u001B[0m \u001B[1;34mb''\u001B[0m\u001B[1;33m\u001B[0m\u001B[1;33m\u001B[0m\u001B[0m\n",
      "\u001B[1;32m~\\anaconda3\\envs\\p38\\lib\\json\\__init__.py\u001B[0m in \u001B[0;36mloads\u001B[1;34m(s, cls, object_hook, parse_float, parse_int, parse_constant, object_pairs_hook, **kw)\u001B[0m\n\u001B[0;32m    356\u001B[0m             parse_constant is None and object_pairs_hook is None and not kw):\n\u001B[1;32m--> 357\u001B[1;33m         \u001B[1;32mreturn\u001B[0m \u001B[0m_default_decoder\u001B[0m\u001B[1;33m.\u001B[0m\u001B[0mdecode\u001B[0m\u001B[1;33m(\u001B[0m\u001B[0ms\u001B[0m\u001B[1;33m)\u001B[0m\u001B[1;33m\u001B[0m\u001B[1;33m\u001B[0m\u001B[0m\n\u001B[0m\u001B[0;32m    358\u001B[0m     \u001B[1;32mif\u001B[0m \u001B[0mcls\u001B[0m \u001B[1;32mis\u001B[0m \u001B[1;32mNone\u001B[0m\u001B[1;33m:\u001B[0m\u001B[1;33m\u001B[0m\u001B[1;33m\u001B[0m\u001B[0m\n",
      "\u001B[1;32m~\\anaconda3\\envs\\p38\\lib\\json\\decoder.py\u001B[0m in \u001B[0;36mdecode\u001B[1;34m(self, s, _w)\u001B[0m\n\u001B[0;32m    339\u001B[0m         \u001B[1;32mif\u001B[0m \u001B[0mend\u001B[0m \u001B[1;33m!=\u001B[0m \u001B[0mlen\u001B[0m\u001B[1;33m(\u001B[0m\u001B[0ms\u001B[0m\u001B[1;33m)\u001B[0m\u001B[1;33m:\u001B[0m\u001B[1;33m\u001B[0m\u001B[1;33m\u001B[0m\u001B[0m\n\u001B[1;32m--> 340\u001B[1;33m             \u001B[1;32mraise\u001B[0m \u001B[0mJSONDecodeError\u001B[0m\u001B[1;33m(\u001B[0m\u001B[1;34m\"Extra data\"\u001B[0m\u001B[1;33m,\u001B[0m \u001B[0ms\u001B[0m\u001B[1;33m,\u001B[0m \u001B[0mend\u001B[0m\u001B[1;33m)\u001B[0m\u001B[1;33m\u001B[0m\u001B[1;33m\u001B[0m\u001B[0m\n\u001B[0m\u001B[0;32m    341\u001B[0m         \u001B[1;32mreturn\u001B[0m \u001B[0mobj\u001B[0m\u001B[1;33m\u001B[0m\u001B[1;33m\u001B[0m\u001B[0m\n",
      "\u001B[1;31mJSONDecodeError\u001B[0m: Extra data: line 1 column 2 (char 1)",
      "\nThe above exception was the direct cause of the following exception:\n",
      "\u001B[1;31mExceptionQuikClient\u001B[0m                       Traceback (most recent call last)",
      "\u001B[1;32m<ipython-input-7-a282358567c1>\u001B[0m in \u001B[0;36m<module>\u001B[1;34m\u001B[0m\n\u001B[0;32m      5\u001B[0m     \u001B[1;32mfor\u001B[0m \u001B[0mcod\u001B[0m \u001B[1;32min\u001B[0m \u001B[0mcodes\u001B[0m\u001B[1;33m:\u001B[0m\u001B[1;33m\u001B[0m\u001B[1;33m\u001B[0m\u001B[0m\n\u001B[0;32m      6\u001B[0m         \u001B[0mprint\u001B[0m\u001B[1;33m(\u001B[0m\u001B[1;34m'---'\u001B[0m\u001B[1;33m,\u001B[0m\u001B[0mcod\u001B[0m\u001B[1;33m)\u001B[0m\u001B[1;33m\u001B[0m\u001B[1;33m\u001B[0m\u001B[0m\n\u001B[1;32m----> 7\u001B[1;33m         \u001B[0mprint\u001B[0m\u001B[1;33m(\u001B[0m\u001B[1;34m'---'\u001B[0m\u001B[1;33m,\u001B[0m \u001B[0mc\u001B[0m\u001B[1;33m.\u001B[0m\u001B[0mget_class_code_info\u001B[0m\u001B[1;33m(\u001B[0m\u001B[0mcls\u001B[0m\u001B[1;33m,\u001B[0m \u001B[0mcod\u001B[0m\u001B[1;33m)\u001B[0m\u001B[1;33m)\u001B[0m\u001B[1;33m\u001B[0m\u001B[1;33m\u001B[0m\u001B[0m\n\u001B[0m\u001B[0;32m      8\u001B[0m         \u001B[1;31m# time.sleep(0.5)\u001B[0m\u001B[1;33m\u001B[0m\u001B[1;33m\u001B[0m\u001B[1;33m\u001B[0m\u001B[0m\n\u001B[0;32m      9\u001B[0m \u001B[1;33m\u001B[0m\u001B[0m\n",
      "\u001B[1;32mC:\\Work\\WorkMy\\QuikClient\\src\\quikclient\\QuikClient.py\u001B[0m in \u001B[0;36mget_class_code_info\u001B[1;34m(self, class_name, class_code)\u001B[0m\n\u001B[0;32m    107\u001B[0m               'scale': 2, 'sec_code': 'GAZP', 'class_name': 'МБ ФР: Т+ Акции и ДР', 'first_currcode': ''}\n\u001B[0;32m    108\u001B[0m         \"\"\"\n\u001B[1;32m--> 109\u001B[1;33m         \u001B[1;32mreturn\u001B[0m \u001B[0mself\u001B[0m\u001B[1;33m.\u001B[0m\u001B[0m_get_cmd\u001B[0m\u001B[1;33m(\u001B[0m\u001B[1;34m'get_class_code_info(\"'\u001B[0m \u001B[1;33m+\u001B[0m \u001B[0mclass_name\u001B[0m \u001B[1;33m+\u001B[0m \u001B[1;34m'\",\"'\u001B[0m \u001B[1;33m+\u001B[0m \u001B[0mclass_code\u001B[0m \u001B[1;33m+\u001B[0m \u001B[1;34m'\")'\u001B[0m\u001B[1;33m)\u001B[0m\u001B[1;33m\u001B[0m\u001B[1;33m\u001B[0m\u001B[0m\n\u001B[0m\u001B[0;32m    110\u001B[0m \u001B[1;33m\u001B[0m\u001B[0m\n\u001B[0;32m    111\u001B[0m     \u001B[1;32mdef\u001B[0m \u001B[0mget_candle_data\u001B[0m\u001B[1;33m(\u001B[0m\u001B[0mself\u001B[0m\u001B[1;33m,\u001B[0m \u001B[0mclass_name\u001B[0m\u001B[1;33m:\u001B[0m \u001B[0mstr\u001B[0m\u001B[1;33m,\u001B[0m \u001B[0mclass_code\u001B[0m\u001B[1;33m:\u001B[0m \u001B[0mstr\u001B[0m\u001B[1;33m,\u001B[0m \u001B[0minterval\u001B[0m\u001B[1;33m:\u001B[0m \u001B[0mstr\u001B[0m\u001B[1;33m)\u001B[0m \u001B[1;33m->\u001B[0m \u001B[0mpd\u001B[0m\u001B[1;33m.\u001B[0m\u001B[0mDataFrame\u001B[0m\u001B[1;33m:\u001B[0m\u001B[1;33m\u001B[0m\u001B[1;33m\u001B[0m\u001B[0m\n",
      "\u001B[1;32mC:\\Work\\WorkMy\\QuikClient\\src\\quikclient\\QuikClient.py\u001B[0m in \u001B[0;36m_get_cmd\u001B[1;34m(self, cmd)\u001B[0m\n\u001B[0;32m     52\u001B[0m             \u001B[0mresult\u001B[0m \u001B[1;33m=\u001B[0m \u001B[0mjson\u001B[0m\u001B[1;33m.\u001B[0m\u001B[0mloads\u001B[0m\u001B[1;33m(\u001B[0m\u001B[0mres\u001B[0m\u001B[1;33m.\u001B[0m\u001B[0mdecode\u001B[0m\u001B[1;33m(\u001B[0m\u001B[0mself\u001B[0m\u001B[1;33m.\u001B[0m\u001B[0municode\u001B[0m\u001B[1;33m)\u001B[0m\u001B[1;33m)\u001B[0m\u001B[1;33m\u001B[0m\u001B[1;33m\u001B[0m\u001B[0m\n\u001B[0;32m     53\u001B[0m         \u001B[1;32mexcept\u001B[0m \u001B[0mException\u001B[0m \u001B[1;32mas\u001B[0m \u001B[0mex\u001B[0m\u001B[1;33m:\u001B[0m\u001B[1;33m\u001B[0m\u001B[1;33m\u001B[0m\u001B[0m\n\u001B[1;32m---> 54\u001B[1;33m             \u001B[1;32mraise\u001B[0m \u001B[0mExceptionQuikClient\u001B[0m\u001B[1;33m(\u001B[0m\u001B[1;34m'Ошибка соединения или передачи данных с QUIK'\u001B[0m\u001B[1;33m)\u001B[0m \u001B[1;32mfrom\u001B[0m \u001B[0mex\u001B[0m\u001B[1;33m\u001B[0m\u001B[1;33m\u001B[0m\u001B[0m\n\u001B[0m\u001B[0;32m     55\u001B[0m         \u001B[1;32mreturn\u001B[0m \u001B[0mresult\u001B[0m\u001B[1;33m\u001B[0m\u001B[1;33m\u001B[0m\u001B[0m\n\u001B[0;32m     56\u001B[0m \u001B[1;33m\u001B[0m\u001B[0m\n",
      "\u001B[1;31mExceptionQuikClient\u001B[0m: Ошибка соединения или передачи данных с QUIK"
     ]
    }
   ],
   "source": [
    "for cls in c.get_classes_list():\n",
    "    print(cls)\n",
    "    codes = c.get_class_codes(cls)\n",
    "    print('--', codes)\n",
    "    for cod in codes:\n",
    "        print('---',cod)\n",
    "        print('---', c.get_class_code_info(cls, cod))\n",
    "        # time.sleep(0.5)\n"
   ],
   "metadata": {
    "collapsed": false,
    "pycharm": {
     "name": "#%%\n"
    }
   }
  },
  {
   "cell_type": "code",
   "execution_count": 8,
   "outputs": [
    {
     "ename": "AttributeError",
     "evalue": "'QuikClient' object has no attribute 'get_class_codes_info'",
     "output_type": "error",
     "traceback": [
      "\u001B[1;31m---------------------------------------------------------------------------\u001B[0m",
      "\u001B[1;31mAttributeError\u001B[0m                            Traceback (most recent call last)",
      "\u001B[1;32m<ipython-input-8-e0b4f9a3beae>\u001B[0m in \u001B[0;36m<module>\u001B[1;34m\u001B[0m\n\u001B[1;32m----> 1\u001B[1;33m \u001B[0mc\u001B[0m\u001B[1;33m.\u001B[0m\u001B[0mget_class_codes_info\u001B[0m\u001B[1;33m(\u001B[0m\u001B[1;34m'TQBR'\u001B[0m\u001B[1;33m)\u001B[0m\u001B[1;33m\u001B[0m\u001B[1;33m\u001B[0m\u001B[0m\n\u001B[0m\u001B[0;32m      2\u001B[0m \u001B[1;33m\u001B[0m\u001B[0m\n",
      "\u001B[1;31mAttributeError\u001B[0m: 'QuikClient' object has no attribute 'get_class_codes_info'"
     ]
    }
   ],
   "source": [
    "c.get_class_codes_info('TQBR')\n"
   ],
   "metadata": {
    "collapsed": false,
    "pycharm": {
     "name": "#%%\n"
    }
   }
  }
 ],
 "metadata": {
  "kernelspec": {
   "display_name": "Python 3",
   "language": "python",
   "name": "python3"
  },
  "language_info": {
   "codemirror_mode": {
    "name": "ipython",
    "version": 2
   },
   "file_extension": ".py",
   "mimetype": "text/x-python",
   "name": "python",
   "nbconvert_exporter": "python",
   "pygments_lexer": "ipython2",
   "version": "2.7.6"
  }
 },
 "nbformat": 4,
 "nbformat_minor": 0
}