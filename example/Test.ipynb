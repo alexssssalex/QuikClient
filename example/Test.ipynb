{
 "cells": [
  {
   "cell_type": "code",
   "execution_count": 1,
   "metadata": {
    "collapsed": true,
    "pycharm": {
     "name": "#%%\n"
    }
   },
   "outputs": [],
   "source": [
    "from src.quikclient import QuikClient\n",
    "import time"
   ]
  },
  {
   "cell_type": "code",
   "execution_count": 2,
   "outputs": [],
   "source": [
    "c= QuikClient()"
   ],
   "metadata": {
    "collapsed": false,
    "pycharm": {
     "name": "#%%\n"
    }
   }
  },
  {
   "cell_type": "code",
   "execution_count": 3,
   "outputs": [
    {
     "data": {
      "text/plain": "['CROSSRATE', 'SMAL', 'INDX', 'TQBR', 'CETS', 'SPBFUT', 'RTSIDX', 'SPBOPT']"
     },
     "execution_count": 3,
     "metadata": {},
     "output_type": "execute_result"
    }
   ],
   "source": [
    "['CROSSRATE', 'SMAL', 'INDX', 'TQBR', 'CETS', 'SPBFUT', 'RTSIDX', 'SPBOPT']"
   ],
   "metadata": {
    "collapsed": false,
    "pycharm": {
     "name": "#%%\n"
    }
   }
  },
  {
   "cell_type": "code",
   "execution_count": 15,
   "outputs": [],
   "source": [
    "# c.get_class_info('TQBR')\n",
    "df = c.get_candle_data('TQBR', 'GAZP', 'INTERVAL_M1')"
   ],
   "metadata": {
    "collapsed": false,
    "pycharm": {
     "name": "#%%\n"
    }
   }
  },
  {
   "cell_type": "code",
   "execution_count": 16,
   "outputs": [
    {
     "data": {
      "text/plain": "                        D       H       L       O       C       V\n0     2022-01-10 23:23:00  344.43  344.26  344.30  344.30  1197.0\n1     2022-01-10 23:24:00  344.39  344.20  344.30  344.32   606.0\n2     2022-01-10 23:25:00  344.40  344.04  344.32  344.04  1281.0\n3     2022-01-10 23:26:00  344.10  344.01  344.04  344.03   311.0\n4     2022-01-10 23:27:00  344.15  344.01  344.10  344.15    44.0\n...                   ...     ...     ...     ...     ...     ...\n10512 2022-05-16 18:45:00  244.20  244.20  244.20  244.20  8756.0\n10513 2022-05-16 18:46:00  244.20  244.20  244.20  244.20   712.0\n10514 2022-05-16 18:47:00  244.20  244.20  244.20  244.20   493.0\n10515 2022-05-16 18:48:00  244.20  244.20  244.20  244.20   742.0\n10516 2022-05-16 18:49:00  244.20  244.20  244.20  244.20   879.0\n\n[10517 rows x 6 columns]",
      "text/html": "<div>\n<style scoped>\n    .dataframe tbody tr th:only-of-type {\n        vertical-align: middle;\n    }\n\n    .dataframe tbody tr th {\n        vertical-align: top;\n    }\n\n    .dataframe thead th {\n        text-align: right;\n    }\n</style>\n<table border=\"1\" class=\"dataframe\">\n  <thead>\n    <tr style=\"text-align: right;\">\n      <th></th>\n      <th>D</th>\n      <th>H</th>\n      <th>L</th>\n      <th>O</th>\n      <th>C</th>\n      <th>V</th>\n    </tr>\n  </thead>\n  <tbody>\n    <tr>\n      <th>0</th>\n      <td>2022-01-10 23:23:00</td>\n      <td>344.43</td>\n      <td>344.26</td>\n      <td>344.30</td>\n      <td>344.30</td>\n      <td>1197.0</td>\n    </tr>\n    <tr>\n      <th>1</th>\n      <td>2022-01-10 23:24:00</td>\n      <td>344.39</td>\n      <td>344.20</td>\n      <td>344.30</td>\n      <td>344.32</td>\n      <td>606.0</td>\n    </tr>\n    <tr>\n      <th>2</th>\n      <td>2022-01-10 23:25:00</td>\n      <td>344.40</td>\n      <td>344.04</td>\n      <td>344.32</td>\n      <td>344.04</td>\n      <td>1281.0</td>\n    </tr>\n    <tr>\n      <th>3</th>\n      <td>2022-01-10 23:26:00</td>\n      <td>344.10</td>\n      <td>344.01</td>\n      <td>344.04</td>\n      <td>344.03</td>\n      <td>311.0</td>\n    </tr>\n    <tr>\n      <th>4</th>\n      <td>2022-01-10 23:27:00</td>\n      <td>344.15</td>\n      <td>344.01</td>\n      <td>344.10</td>\n      <td>344.15</td>\n      <td>44.0</td>\n    </tr>\n    <tr>\n      <th>...</th>\n      <td>...</td>\n      <td>...</td>\n      <td>...</td>\n      <td>...</td>\n      <td>...</td>\n      <td>...</td>\n    </tr>\n    <tr>\n      <th>10512</th>\n      <td>2022-05-16 18:45:00</td>\n      <td>244.20</td>\n      <td>244.20</td>\n      <td>244.20</td>\n      <td>244.20</td>\n      <td>8756.0</td>\n    </tr>\n    <tr>\n      <th>10513</th>\n      <td>2022-05-16 18:46:00</td>\n      <td>244.20</td>\n      <td>244.20</td>\n      <td>244.20</td>\n      <td>244.20</td>\n      <td>712.0</td>\n    </tr>\n    <tr>\n      <th>10514</th>\n      <td>2022-05-16 18:47:00</td>\n      <td>244.20</td>\n      <td>244.20</td>\n      <td>244.20</td>\n      <td>244.20</td>\n      <td>493.0</td>\n    </tr>\n    <tr>\n      <th>10515</th>\n      <td>2022-05-16 18:48:00</td>\n      <td>244.20</td>\n      <td>244.20</td>\n      <td>244.20</td>\n      <td>244.20</td>\n      <td>742.0</td>\n    </tr>\n    <tr>\n      <th>10516</th>\n      <td>2022-05-16 18:49:00</td>\n      <td>244.20</td>\n      <td>244.20</td>\n      <td>244.20</td>\n      <td>244.20</td>\n      <td>879.0</td>\n    </tr>\n  </tbody>\n</table>\n<p>10517 rows × 6 columns</p>\n</div>"
     },
     "execution_count": 16,
     "metadata": {},
     "output_type": "execute_result"
    }
   ],
   "source": [
    "df"
   ],
   "metadata": {
    "collapsed": false,
    "pycharm": {
     "name": "#%%\n"
    }
   }
  },
  {
   "cell_type": "code",
   "execution_count": 8,
   "outputs": [
    {
     "data": {
      "text/plain": "['PSAU',\n 'SMAL',\n 'INDX',\n 'TQBR',\n 'TQOB',\n 'TQIF',\n 'TQTF',\n 'TQOD',\n 'CETS',\n 'CROSSRATE',\n 'SPBFUT',\n 'SPBOPT',\n 'USDRUB',\n 'RTSIDX',\n 'REPORT',\n 'REPORTFORTS',\n 'SMS',\n 'TQIU',\n 'TQIE',\n 'TQPI',\n 'TQFD',\n 'TQFE',\n 'EQRP',\n 'INFO',\n 'TQTD',\n 'TQTE',\n 'TQCB',\n 'TQOE',\n 'TQRD',\n 'TQUD',\n 'TQED',\n 'TQIR',\n 'SPBXM',\n 'SPBDE',\n 'SPBRU',\n 'USD',\n 'PSSPBRU',\n 'USD',\n 'QT',\n 'EQ',\n 'QT',\n 'BN']"
     },
     "execution_count": 8,
     "metadata": {},
     "output_type": "execute_result"
    }
   ],
   "source": [
    "c.get_classes_list()"
   ],
   "metadata": {
    "collapsed": false,
    "pycharm": {
     "name": "#%%\n"
    }
   }
  },
  {
   "cell_type": "code",
   "execution_count": 9,
   "outputs": [
    {
     "name": "stdout",
     "output_type": "stream",
     "text": [
      "РПС: Размещение: Адресные заявки (облигации)\n",
      "МБ ФР: Т+ Неполные лоты\n",
      "Индексы: МБ ФР\n",
      "МБ ФР: Т+ Акции и ДР\n",
      "МБ ФР: Т+: Гособлигации\n",
      "МБ ФР: Т+ Паи\n",
      "МБ ФР: Т+ ETF\n",
      "МБ ФР: Т+ Облигации (расч. в USD)\n",
      "МБ Валюта: ЕТС\n",
      "МБ ФР: Кросс-курсы валют\n",
      "FORTS: Фьючерсы\n",
      "FORTS: Опционы\n",
      "FORTS: Кросс-курсы\n",
      "Индексы: FORTS\n",
      "МБ ФР: Отчёты\n",
      "FORTS: Отчёты\n",
      "SMS-оповещения\n",
      "МБ ФР: Т+: Повышенный инвестиционный риск (Облигации) (расч.в USD)\n",
      "МБ ФР: Т+: Повышенный инвестиционный риск (Облигации) (расч.в EUR)\n",
      "МБ ФР: Т+: Повышенный инвестиционный риск (Акции)\n",
      "МБ ФР: Т+: Паи (расч. в USD)\n",
      "МБ ФР: Т+: Паи (расч. в EUR)\n"
     ]
    },
    {
     "ename": "TypeError",
     "evalue": "'NoneType' object is not subscriptable",
     "output_type": "error",
     "traceback": [
      "\u001B[1;31m---------------------------------------------------------------------------\u001B[0m",
      "\u001B[1;31mTypeError\u001B[0m                                 Traceback (most recent call last)",
      "\u001B[1;32m~\\AppData\\Local\\Temp/ipykernel_21496/451196164.py\u001B[0m in \u001B[0;36m<module>\u001B[1;34m\u001B[0m\n\u001B[0;32m      1\u001B[0m \u001B[1;32mfor\u001B[0m \u001B[0mx\u001B[0m \u001B[1;32min\u001B[0m  \u001B[0mc\u001B[0m\u001B[1;33m.\u001B[0m\u001B[0mget_classes_list\u001B[0m\u001B[1;33m(\u001B[0m\u001B[1;33m)\u001B[0m\u001B[1;33m:\u001B[0m\u001B[1;33m\u001B[0m\u001B[1;33m\u001B[0m\u001B[0m\n\u001B[0;32m      2\u001B[0m     \u001B[0my\u001B[0m \u001B[1;33m=\u001B[0m \u001B[0mc\u001B[0m\u001B[1;33m.\u001B[0m\u001B[0mget_class_info\u001B[0m\u001B[1;33m(\u001B[0m\u001B[0mx\u001B[0m\u001B[1;33m)\u001B[0m\u001B[1;33m\u001B[0m\u001B[1;33m\u001B[0m\u001B[0m\n\u001B[1;32m----> 3\u001B[1;33m     \u001B[0mprint\u001B[0m\u001B[1;33m(\u001B[0m\u001B[0my\u001B[0m\u001B[1;33m[\u001B[0m\u001B[1;34m'name'\u001B[0m\u001B[1;33m]\u001B[0m\u001B[1;33m)\u001B[0m\u001B[1;33m\u001B[0m\u001B[1;33m\u001B[0m\u001B[0m\n\u001B[0m",
      "\u001B[1;31mTypeError\u001B[0m: 'NoneType' object is not subscriptable"
     ]
    }
   ],
   "source": [
    "for x in  c.get_classes_list():\n",
    "    y = c.get_class_info(x)\n",
    "    print(y['name'])"
   ],
   "metadata": {
    "collapsed": false,
    "pycharm": {
     "name": "#%%\n"
    }
   }
  },
  {
   "cell_type": "code",
   "execution_count": 9,
   "outputs": [
    {
     "name": "stdout",
     "output_type": "stream",
     "text": [
      "PSAU\n",
      "-- ['RU', 'A', 'JWZM', 'RU', 'A', 'ZYCD', 'RU', 'A', 'ZYKU', 'RU', 'A', 'ZYL', 'RU', 'A', 'ZYM', 'RU', 'A', 'ZZQQ', 'RU', 'A', 'ZZSW', 'RU', 'A', 'ZZXZ', 'RU', 'A', 'ZZZV', 'RU', 'A', 'WL', 'RU', 'A', 'L', 'RU', 'A', 'H', 'RU', 'A', 'HF', 'RU', 'A', 'K', 'RU', 'A', 'KN', 'RU', 'A', 'L', 'RU', 'A', 'L', 'RU', 'A', 'M', 'RU', 'A', 'F', 'RU', 'A', 'DH', 'RU', 'A', 'DJ', 'RU', 'A', 'F', 'RU', 'A', 'VD', 'RU', 'A', 'V', 'RU', 'A', 'E', 'RU', 'A', 'V', 'RU', 'A', 'B', 'RU', 'A', 'BC', 'RU', 'A', 'JF', 'RU', 'A', 'JV', 'RU', 'A', 'K', 'RU', 'A', 'KE', 'RU', 'A', 'KS', 'RU', 'A', 'SJ', 'SU', 'RMFS']\n",
      "--- RU\n",
      "--- None\n",
      "--- A\n",
      "--- None\n",
      "--- JWZM\n",
      "--- None\n",
      "--- RU\n",
      "--- None\n",
      "--- A\n",
      "--- None\n",
      "--- ZYCD\n",
      "--- None\n",
      "--- RU\n",
      "--- None\n",
      "--- A\n",
      "--- None\n",
      "--- ZYKU\n",
      "--- None\n",
      "--- RU\n",
      "--- None\n",
      "--- A\n",
      "--- None\n",
      "--- ZYL\n",
      "--- None\n",
      "--- RU\n",
      "--- None\n",
      "--- A\n",
      "--- None\n",
      "--- ZYM\n",
      "--- None\n",
      "--- RU\n",
      "--- None\n",
      "--- A\n",
      "--- None\n",
      "--- ZZQQ\n",
      "--- None\n",
      "--- RU\n",
      "--- None\n",
      "--- A\n",
      "--- None\n",
      "--- ZZSW\n",
      "--- None\n",
      "--- RU\n",
      "--- None\n",
      "--- A\n",
      "--- None\n",
      "--- ZZXZ\n",
      "--- None\n",
      "--- RU\n",
      "--- None\n",
      "--- A\n",
      "--- None\n",
      "--- ZZZV\n",
      "--- None\n",
      "--- RU\n",
      "--- None\n",
      "--- A\n",
      "--- None\n",
      "--- WL\n",
      "--- None\n",
      "--- RU\n",
      "--- None\n",
      "--- A\n",
      "--- None\n",
      "--- L\n",
      "--- None\n",
      "--- RU\n",
      "--- None\n",
      "--- A\n",
      "--- None\n",
      "--- H\n",
      "--- None\n",
      "--- RU\n",
      "--- None\n",
      "--- A\n",
      "--- None\n",
      "--- HF\n",
      "--- None\n",
      "--- RU\n",
      "--- None\n",
      "--- A\n",
      "--- None\n",
      "--- K\n",
      "--- None\n",
      "--- RU\n",
      "--- None\n",
      "--- A\n",
      "--- None\n",
      "--- KN\n",
      "--- None\n",
      "--- RU\n",
      "--- None\n",
      "--- A\n",
      "--- None\n",
      "--- L\n",
      "--- None\n",
      "--- RU\n",
      "--- None\n",
      "--- A\n",
      "--- None\n",
      "--- L\n",
      "--- None\n",
      "--- RU\n",
      "--- None\n",
      "--- A\n",
      "--- None\n",
      "--- M\n",
      "--- None\n",
      "--- RU\n"
     ]
    },
    {
     "ename": "ExceptionQuikClient",
     "evalue": "Ошибка соединения или передачи данных с QUIK",
     "output_type": "error",
     "traceback": [
      "\u001B[1;31m---------------------------------------------------------------------------\u001B[0m",
      "\u001B[1;31mJSONDecodeError\u001B[0m                           Traceback (most recent call last)",
      "\u001B[1;32mC:\\Work\\WorkMy\\Project\\QuikClient\\src\\quikclient\\QuikClient.py\u001B[0m in \u001B[0;36m_get_cmd\u001B[1;34m(self, cmd)\u001B[0m\n\u001B[0;32m     46\u001B[0m             \u001B[0ms\u001B[0m\u001B[1;33m.\u001B[0m\u001B[0msend\u001B[0m\u001B[1;33m(\u001B[0m\u001B[0mcmd_to_send\u001B[0m\u001B[1;33m.\u001B[0m\u001B[0mencode\u001B[0m\u001B[1;33m(\u001B[0m\u001B[0mself\u001B[0m\u001B[1;33m.\u001B[0m\u001B[0municode\u001B[0m\u001B[1;33m)\u001B[0m\u001B[1;33m)\u001B[0m\u001B[1;33m\u001B[0m\u001B[1;33m\u001B[0m\u001B[0m\n\u001B[1;32m---> 47\u001B[1;33m             \u001B[0mnumber_chunk\u001B[0m \u001B[1;33m=\u001B[0m \u001B[0mjson\u001B[0m\u001B[1;33m.\u001B[0m\u001B[0mloads\u001B[0m\u001B[1;33m(\u001B[0m\u001B[0ms\u001B[0m\u001B[1;33m.\u001B[0m\u001B[0mrecv\u001B[0m\u001B[1;33m(\u001B[0m\u001B[1;36m32\u001B[0m\u001B[1;33m)\u001B[0m\u001B[1;33m)\u001B[0m\u001B[1;33m\u001B[0m\u001B[1;33m\u001B[0m\u001B[0m\n\u001B[0m\u001B[0;32m     48\u001B[0m             \u001B[0mres\u001B[0m \u001B[1;33m=\u001B[0m \u001B[1;34mb''\u001B[0m\u001B[1;33m\u001B[0m\u001B[1;33m\u001B[0m\u001B[0m\n",
      "\u001B[1;32m~\\anaconda3\\envs\\p39\\lib\\json\\__init__.py\u001B[0m in \u001B[0;36mloads\u001B[1;34m(s, cls, object_hook, parse_float, parse_int, parse_constant, object_pairs_hook, **kw)\u001B[0m\n\u001B[0;32m    345\u001B[0m             parse_constant is None and object_pairs_hook is None and not kw):\n\u001B[1;32m--> 346\u001B[1;33m         \u001B[1;32mreturn\u001B[0m \u001B[0m_default_decoder\u001B[0m\u001B[1;33m.\u001B[0m\u001B[0mdecode\u001B[0m\u001B[1;33m(\u001B[0m\u001B[0ms\u001B[0m\u001B[1;33m)\u001B[0m\u001B[1;33m\u001B[0m\u001B[1;33m\u001B[0m\u001B[0m\n\u001B[0m\u001B[0;32m    347\u001B[0m     \u001B[1;32mif\u001B[0m \u001B[0mcls\u001B[0m \u001B[1;32mis\u001B[0m \u001B[1;32mNone\u001B[0m\u001B[1;33m:\u001B[0m\u001B[1;33m\u001B[0m\u001B[1;33m\u001B[0m\u001B[0m\n",
      "\u001B[1;32m~\\anaconda3\\envs\\p39\\lib\\json\\decoder.py\u001B[0m in \u001B[0;36mdecode\u001B[1;34m(self, s, _w)\u001B[0m\n\u001B[0;32m    339\u001B[0m         \u001B[1;32mif\u001B[0m \u001B[0mend\u001B[0m \u001B[1;33m!=\u001B[0m \u001B[0mlen\u001B[0m\u001B[1;33m(\u001B[0m\u001B[0ms\u001B[0m\u001B[1;33m)\u001B[0m\u001B[1;33m:\u001B[0m\u001B[1;33m\u001B[0m\u001B[1;33m\u001B[0m\u001B[0m\n\u001B[1;32m--> 340\u001B[1;33m             \u001B[1;32mraise\u001B[0m \u001B[0mJSONDecodeError\u001B[0m\u001B[1;33m(\u001B[0m\u001B[1;34m\"Extra data\"\u001B[0m\u001B[1;33m,\u001B[0m \u001B[0ms\u001B[0m\u001B[1;33m,\u001B[0m \u001B[0mend\u001B[0m\u001B[1;33m)\u001B[0m\u001B[1;33m\u001B[0m\u001B[1;33m\u001B[0m\u001B[0m\n\u001B[0m\u001B[0;32m    341\u001B[0m         \u001B[1;32mreturn\u001B[0m \u001B[0mobj\u001B[0m\u001B[1;33m\u001B[0m\u001B[1;33m\u001B[0m\u001B[0m\n",
      "\u001B[1;31mJSONDecodeError\u001B[0m: Extra data: line 1 column 2 (char 1)",
      "\nThe above exception was the direct cause of the following exception:\n",
      "\u001B[1;31mExceptionQuikClient\u001B[0m                       Traceback (most recent call last)",
      "\u001B[1;32m~\\AppData\\Local\\Temp/ipykernel_4196/3674252724.py\u001B[0m in \u001B[0;36m<module>\u001B[1;34m\u001B[0m\n\u001B[0;32m      5\u001B[0m     \u001B[1;32mfor\u001B[0m \u001B[0mcod\u001B[0m \u001B[1;32min\u001B[0m \u001B[0mcodes\u001B[0m\u001B[1;33m:\u001B[0m\u001B[1;33m\u001B[0m\u001B[1;33m\u001B[0m\u001B[0m\n\u001B[0;32m      6\u001B[0m         \u001B[0mprint\u001B[0m\u001B[1;33m(\u001B[0m\u001B[1;34m'---'\u001B[0m\u001B[1;33m,\u001B[0m\u001B[0mcod\u001B[0m\u001B[1;33m)\u001B[0m\u001B[1;33m\u001B[0m\u001B[1;33m\u001B[0m\u001B[0m\n\u001B[1;32m----> 7\u001B[1;33m         \u001B[0mprint\u001B[0m\u001B[1;33m(\u001B[0m\u001B[1;34m'---'\u001B[0m\u001B[1;33m,\u001B[0m \u001B[0mc\u001B[0m\u001B[1;33m.\u001B[0m\u001B[0mget_class_code_info\u001B[0m\u001B[1;33m(\u001B[0m\u001B[0mcls\u001B[0m\u001B[1;33m,\u001B[0m \u001B[0mcod\u001B[0m\u001B[1;33m)\u001B[0m\u001B[1;33m)\u001B[0m\u001B[1;33m\u001B[0m\u001B[1;33m\u001B[0m\u001B[0m\n\u001B[0m\u001B[0;32m      8\u001B[0m         \u001B[1;31m# time.sleep(0.5)\u001B[0m\u001B[1;33m\u001B[0m\u001B[1;33m\u001B[0m\u001B[0m\n\u001B[0;32m      9\u001B[0m \u001B[1;33m\u001B[0m\u001B[0m\n",
      "\u001B[1;32mC:\\Work\\WorkMy\\Project\\QuikClient\\src\\quikclient\\QuikClient.py\u001B[0m in \u001B[0;36mget_class_code_info\u001B[1;34m(self, class_name, class_code)\u001B[0m\n\u001B[0;32m    106\u001B[0m               'scale': 2, 'sec_code': 'GAZP', 'class_name': 'МБ ФР: Т+ Акции и ДР', 'first_currcode': ''}\n\u001B[0;32m    107\u001B[0m         \"\"\"\n\u001B[1;32m--> 108\u001B[1;33m         \u001B[1;32mreturn\u001B[0m \u001B[0mself\u001B[0m\u001B[1;33m.\u001B[0m\u001B[0m_get_cmd\u001B[0m\u001B[1;33m(\u001B[0m\u001B[1;34m'get_class_code_info(\"'\u001B[0m \u001B[1;33m+\u001B[0m \u001B[0mclass_name\u001B[0m \u001B[1;33m+\u001B[0m \u001B[1;34m'\",\"'\u001B[0m \u001B[1;33m+\u001B[0m \u001B[0mclass_code\u001B[0m \u001B[1;33m+\u001B[0m \u001B[1;34m'\")'\u001B[0m\u001B[1;33m)\u001B[0m\u001B[1;33m\u001B[0m\u001B[1;33m\u001B[0m\u001B[0m\n\u001B[0m\u001B[0;32m    109\u001B[0m \u001B[1;33m\u001B[0m\u001B[0m\n\u001B[0;32m    110\u001B[0m     \u001B[1;32mdef\u001B[0m \u001B[0mget_candle_data\u001B[0m\u001B[1;33m(\u001B[0m\u001B[0mself\u001B[0m\u001B[1;33m,\u001B[0m \u001B[0mclass_name\u001B[0m\u001B[1;33m:\u001B[0m \u001B[0mstr\u001B[0m\u001B[1;33m,\u001B[0m \u001B[0mclass_code\u001B[0m\u001B[1;33m:\u001B[0m \u001B[0mstr\u001B[0m\u001B[1;33m,\u001B[0m \u001B[0minterval\u001B[0m\u001B[1;33m:\u001B[0m \u001B[0mstr\u001B[0m\u001B[1;33m)\u001B[0m \u001B[1;33m->\u001B[0m \u001B[0mpd\u001B[0m\u001B[1;33m.\u001B[0m\u001B[0mDataFrame\u001B[0m\u001B[1;33m:\u001B[0m\u001B[1;33m\u001B[0m\u001B[1;33m\u001B[0m\u001B[0m\n",
      "\u001B[1;32mC:\\Work\\WorkMy\\Project\\QuikClient\\src\\quikclient\\QuikClient.py\u001B[0m in \u001B[0;36m_get_cmd\u001B[1;34m(self, cmd)\u001B[0m\n\u001B[0;32m     52\u001B[0m             \u001B[0mresult\u001B[0m \u001B[1;33m=\u001B[0m \u001B[0mjson\u001B[0m\u001B[1;33m.\u001B[0m\u001B[0mloads\u001B[0m\u001B[1;33m(\u001B[0m\u001B[0mres\u001B[0m\u001B[1;33m.\u001B[0m\u001B[0mdecode\u001B[0m\u001B[1;33m(\u001B[0m\u001B[0mself\u001B[0m\u001B[1;33m.\u001B[0m\u001B[0municode\u001B[0m\u001B[1;33m)\u001B[0m\u001B[1;33m)\u001B[0m\u001B[1;33m\u001B[0m\u001B[1;33m\u001B[0m\u001B[0m\n\u001B[0;32m     53\u001B[0m         \u001B[1;32mexcept\u001B[0m \u001B[0mException\u001B[0m \u001B[1;32mas\u001B[0m \u001B[0mex\u001B[0m\u001B[1;33m:\u001B[0m\u001B[1;33m\u001B[0m\u001B[1;33m\u001B[0m\u001B[0m\n\u001B[1;32m---> 54\u001B[1;33m             \u001B[1;32mraise\u001B[0m \u001B[0mExceptionQuikClient\u001B[0m\u001B[1;33m(\u001B[0m\u001B[1;34m'Ошибка соединения или передачи данных с QUIK'\u001B[0m\u001B[1;33m)\u001B[0m \u001B[1;32mfrom\u001B[0m \u001B[0mex\u001B[0m\u001B[1;33m\u001B[0m\u001B[1;33m\u001B[0m\u001B[0m\n\u001B[0m\u001B[0;32m     55\u001B[0m         \u001B[1;32mreturn\u001B[0m \u001B[0mresult\u001B[0m\u001B[1;33m\u001B[0m\u001B[1;33m\u001B[0m\u001B[0m\n\u001B[0;32m     56\u001B[0m \u001B[1;33m\u001B[0m\u001B[0m\n",
      "\u001B[1;31mExceptionQuikClient\u001B[0m: Ошибка соединения или передачи данных с QUIK"
     ]
    }
   ],
   "source": [
    "for cls in c.get_classes_list():\n",
    "    print(cls)\n",
    "    codes = c.get_class_codes(cls)\n",
    "    print('--', codes)\n",
    "    for cod in codes:\n",
    "        print('---',cod)\n",
    "        print('---', c.get_class_code_info(cls, cod))\n",
    "        # time.sleep(0.5)\n"
   ],
   "metadata": {
    "collapsed": false,
    "pycharm": {
     "name": "#%%\n"
    }
   }
  },
  {
   "cell_type": "code",
   "execution_count": 10,
   "outputs": [
    {
     "ename": "AttributeError",
     "evalue": "'QuikClient' object has no attribute 'get_class_codes_info'",
     "output_type": "error",
     "traceback": [
      "\u001B[1;31m---------------------------------------------------------------------------\u001B[0m",
      "\u001B[1;31mAttributeError\u001B[0m                            Traceback (most recent call last)",
      "\u001B[1;32m~\\AppData\\Local\\Temp/ipykernel_4196/2495623352.py\u001B[0m in \u001B[0;36m<module>\u001B[1;34m\u001B[0m\n\u001B[1;32m----> 1\u001B[1;33m \u001B[0mc\u001B[0m\u001B[1;33m.\u001B[0m\u001B[0mget_class_codes_info\u001B[0m\u001B[1;33m(\u001B[0m\u001B[1;34m'TQBR'\u001B[0m\u001B[1;33m)\u001B[0m\u001B[1;33m\u001B[0m\u001B[1;33m\u001B[0m\u001B[0m\n\u001B[0m",
      "\u001B[1;31mAttributeError\u001B[0m: 'QuikClient' object has no attribute 'get_class_codes_info'"
     ]
    }
   ],
   "source": [
    "c.get_class_codes_info('TQBR')"
   ],
   "metadata": {
    "collapsed": false,
    "pycharm": {
     "name": "#%%\n"
    }
   }
  },
  {
   "cell_type": "code",
   "execution_count": null,
   "outputs": [],
   "source": [],
   "metadata": {
    "collapsed": false,
    "pycharm": {
     "name": "#%%\n"
    }
   }
  }
 ],
 "metadata": {
  "kernelspec": {
   "name": "python3",
   "language": "python",
   "display_name": "Python 3 (ipykernel)"
  },
  "language_info": {
   "codemirror_mode": {
    "name": "ipython",
    "version": 2
   },
   "file_extension": ".py",
   "mimetype": "text/x-python",
   "name": "python",
   "nbconvert_exporter": "python",
   "pygments_lexer": "ipython2",
   "version": "2.7.6"
  }
 },
 "nbformat": 4,
 "nbformat_minor": 0
}